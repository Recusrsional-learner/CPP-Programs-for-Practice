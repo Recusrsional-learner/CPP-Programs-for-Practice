{
  "nbformat": 4,
  "nbformat_minor": 0,
  "metadata": {
    "colab": {
      "provenance": [],
      "authorship_tag": "ABX9TyNeFCkd3VfH4XNHrhkH1pGj",
      "include_colab_link": true
    },
    "kernelspec": {
      "name": "python3",
      "display_name": "Python 3"
    },
    "language_info": {
      "name": "python"
    }
  },
  "cells": [
    {
      "cell_type": "markdown",
      "metadata": {
        "id": "view-in-github",
        "colab_type": "text"
      },
      "source": [
        "<a href=\"https://colab.research.google.com/github/Recusrsional-learner/CPP-Programs-for-Practice/blob/main/Untitled0.ipynb\" target=\"_parent\"><img src=\"https://colab.research.google.com/assets/colab-badge.svg\" alt=\"Open In Colab\"/></a>"
      ]
    },
    {
      "cell_type": "code",
      "execution_count": 1,
      "metadata": {
        "colab": {
          "base_uri": "https://localhost:8080/"
        },
        "id": "B4UVh8a9AEJU",
        "outputId": "babb537b-f529-4d57-cf69-a17b85eddc2f"
      },
      "outputs": [
        {
          "output_type": "execute_result",
          "data": {
            "text/plain": [
              "tensor([[0.7559, 0.9710],\n",
              "        [0.7391, 0.3200]])"
            ]
          },
          "metadata": {},
          "execution_count": 1
        }
      ],
      "source": [
        "import torch\n",
        "x=torch.rand(2,2)\n",
        "x"
      ]
    },
    {
      "cell_type": "code",
      "source": [
        "torch.linspace(1,10,30)"
      ],
      "metadata": {
        "colab": {
          "base_uri": "https://localhost:8080/"
        },
        "id": "lyysJLC0Ad7H",
        "outputId": "e8e53e28-9165-46f4-dc51-050af1c22aa4"
      },
      "execution_count": 8,
      "outputs": [
        {
          "output_type": "execute_result",
          "data": {
            "text/plain": [
              "tensor([ 1.0000,  1.3103,  1.6207,  1.9310,  2.2414,  2.5517,  2.8621,  3.1724,\n",
              "         3.4828,  3.7931,  4.1034,  4.4138,  4.7241,  5.0345,  5.3448,  5.6552,\n",
              "         5.9655,  6.2759,  6.5862,  6.8966,  7.2069,  7.5172,  7.8276,  8.1379,\n",
              "         8.4483,  8.7586,  9.0690,  9.3793,  9.6897, 10.0000])"
            ]
          },
          "metadata": {},
          "execution_count": 8
        }
      ]
    },
    {
      "cell_type": "code",
      "source": [
        "torch.eye(3,3)"
      ],
      "metadata": {
        "id": "k2eh0FIcBClv",
        "outputId": "435d8737-ac52-40cb-fdf7-4c3ad192095a",
        "colab": {
          "base_uri": "https://localhost:8080/"
        }
      },
      "execution_count": 9,
      "outputs": [
        {
          "output_type": "execute_result",
          "data": {
            "text/plain": [
              "tensor([[1., 0., 0.],\n",
              "        [0., 1., 0.],\n",
              "        [0., 0., 1.]])"
            ]
          },
          "metadata": {},
          "execution_count": 9
        }
      ]
    },
    {
      "cell_type": "code",
      "source": [
        "d=int(input())\n",
        "torch.full(size=(3,2),fill_value=d)"
      ],
      "metadata": {
        "id": "AR5X4kgyBF-n",
        "outputId": "f0a5a5e9-de21-44e3-de7f-794a0cd6770b",
        "colab": {
          "base_uri": "https://localhost:8080/"
        }
      },
      "execution_count": 12,
      "outputs": [
        {
          "name": "stdout",
          "output_type": "stream",
          "text": [
            "5\n"
          ]
        },
        {
          "output_type": "execute_result",
          "data": {
            "text/plain": [
              "tensor([[5, 5],\n",
              "        [5, 5],\n",
              "        [5, 5]])"
            ]
          },
          "metadata": {},
          "execution_count": 12
        }
      ]
    },
    {
      "cell_type": "markdown",
      "source": [],
      "metadata": {
        "id": "WrCx2lljQm6R"
      }
    },
    {
      "cell_type": "code",
      "source": [
        "a=torch.ones(2,2)\n",
        "b=torch.zeros(2,2)\n",
        "torch.cat((a,b),dim=1)"
      ],
      "metadata": {
        "id": "_8dsNBiFQoOi",
        "outputId": "ce69a9eb-a281-415a-df9b-b3d24d12e109",
        "colab": {
          "base_uri": "https://localhost:8080/"
        }
      },
      "execution_count": 27,
      "outputs": [
        {
          "output_type": "execute_result",
          "data": {
            "text/plain": [
              "tensor([[1., 1., 0., 0.],\n",
              "        [1., 1., 0., 0.]])"
            ]
          },
          "metadata": {},
          "execution_count": 27
        }
      ]
    },
    {
      "cell_type": "code",
      "source": [
        "a=torch.ones(2,2)\n",
        "b=torch.zeros(2,2)\n",
        "torch.cat((a,b))"
      ],
      "metadata": {
        "id": "0_SStwEQBrSj",
        "outputId": "303c5fc1-7fb3-4387-f229-02d5dff7b485",
        "colab": {
          "base_uri": "https://localhost:8080/"
        }
      },
      "execution_count": 13,
      "outputs": [
        {
          "output_type": "execute_result",
          "data": {
            "text/plain": [
              "tensor([[1., 1.],\n",
              "        [1., 1.],\n",
              "        [0., 0.],\n",
              "        [0., 0.]])"
            ]
          },
          "metadata": {},
          "execution_count": 13
        }
      ]
    },
    {
      "cell_type": "code",
      "source": [
        "p=torch.rand(10)\n",
        "print(p)\n",
        "torch.take(p,torch.tensor([1,4,6]))"
      ],
      "metadata": {
        "id": "TlbrPQwNCKOO",
        "outputId": "34a10c4f-b8bc-4a6d-cfb9-c805ade47a98",
        "colab": {
          "base_uri": "https://localhost:8080/"
        }
      },
      "execution_count": 20,
      "outputs": [
        {
          "output_type": "stream",
          "name": "stdout",
          "text": [
            "tensor([0.0505, 0.2089, 0.2375, 0.3014, 0.8892, 0.3495, 0.7390, 0.1308, 0.9481,\n",
            "        0.3528])\n"
          ]
        },
        {
          "output_type": "execute_result",
          "data": {
            "text/plain": [
              "tensor([0.2089, 0.8892, 0.7390])"
            ]
          },
          "metadata": {},
          "execution_count": 20
        }
      ]
    },
    {
      "cell_type": "code",
      "source": [
        "p=torch.rand(2,3)\n",
        "print(p)\n",
        "torch.unbind(p,dim=1)"
      ],
      "metadata": {
        "id": "08d-z5C9DFXn",
        "outputId": "90cb1e25-3f0b-4da3-c97e-f9103eced088",
        "colab": {
          "base_uri": "https://localhost:8080/"
        }
      },
      "execution_count": 23,
      "outputs": [
        {
          "output_type": "stream",
          "name": "stdout",
          "text": [
            "tensor([[0.5900, 0.5168, 0.7883],\n",
            "        [0.9183, 0.7070, 0.2640]])\n"
          ]
        },
        {
          "output_type": "execute_result",
          "data": {
            "text/plain": [
              "(tensor([0.5900, 0.9183]), tensor([0.5168, 0.7070]), tensor([0.7883, 0.2640]))"
            ]
          },
          "metadata": {},
          "execution_count": 23
        }
      ]
    },
    {
      "cell_type": "code",
      "source": [
        "p=torch.rand(2,3,4)\n",
        "print(p)\n",
        "print(torch.unbind(p,dim=2))\n",
        "torch.unbind(p,dim=1)"
      ],
      "metadata": {
        "id": "Efd9-XJgR8Gy",
        "outputId": "c8f02eef-f4ee-4aa3-9d16-62c8c1a08084",
        "colab": {
          "base_uri": "https://localhost:8080/"
        }
      },
      "execution_count": 29,
      "outputs": [
        {
          "output_type": "stream",
          "name": "stdout",
          "text": [
            "tensor([[[0.5611, 0.6131, 0.9848, 0.9793],\n",
            "         [0.4622, 0.7480, 0.4723, 0.7952],\n",
            "         [0.6681, 0.0768, 0.6572, 0.8606]],\n",
            "\n",
            "        [[0.3446, 0.7091, 0.9199, 0.2873],\n",
            "         [0.0229, 0.4829, 0.5614, 0.0546],\n",
            "         [0.3939, 0.4563, 0.0123, 0.6409]]])\n",
            "(tensor([[0.5611, 0.4622, 0.6681],\n",
            "        [0.3446, 0.0229, 0.3939]]), tensor([[0.6131, 0.7480, 0.0768],\n",
            "        [0.7091, 0.4829, 0.4563]]), tensor([[0.9848, 0.4723, 0.6572],\n",
            "        [0.9199, 0.5614, 0.0123]]), tensor([[0.9793, 0.7952, 0.8606],\n",
            "        [0.2873, 0.0546, 0.6409]]))\n"
          ]
        },
        {
          "output_type": "execute_result",
          "data": {
            "text/plain": [
              "(tensor([[0.5611, 0.6131, 0.9848, 0.9793],\n",
              "         [0.3446, 0.7091, 0.9199, 0.2873]]),\n",
              " tensor([[0.4622, 0.7480, 0.4723, 0.7952],\n",
              "         [0.0229, 0.4829, 0.5614, 0.0546]]),\n",
              " tensor([[0.6681, 0.0768, 0.6572, 0.8606],\n",
              "         [0.3939, 0.4563, 0.0123, 0.6409]]))"
            ]
          },
          "metadata": {},
          "execution_count": 29
        }
      ]
    },
    {
      "cell_type": "code",
      "source": [
        "torch.unbind(p)"
      ],
      "metadata": {
        "id": "gPXgwsiYDcOS",
        "outputId": "7b87d234-d625-4efc-ae74-fed1ab0487e3",
        "colab": {
          "base_uri": "https://localhost:8080/"
        }
      },
      "execution_count": 24,
      "outputs": [
        {
          "output_type": "execute_result",
          "data": {
            "text/plain": [
              "(tensor([0.5900, 0.5168, 0.7883]), tensor([0.9183, 0.7070, 0.2640]))"
            ]
          },
          "metadata": {},
          "execution_count": 24
        }
      ]
    },
    {
      "cell_type": "code",
      "source": [
        "a = torch.tensor([[1., 2.],\n",
        "                  [3., 4.],\n",
        "                  [5., 6.]])\n",
        "b = a\n",
        "a[1,0]=9\n",
        "b\n"
      ],
      "metadata": {
        "id": "pPmfwwQzDsHQ",
        "outputId": "bb88d649-0844-4ed6-b82b-e060ee1cdf25",
        "colab": {
          "base_uri": "https://localhost:8080/"
        }
      },
      "execution_count": 25,
      "outputs": [
        {
          "output_type": "execute_result",
          "data": {
            "text/plain": [
              "tensor([[1., 2.],\n",
              "        [9., 4.],\n",
              "        [5., 6.]])"
            ]
          },
          "metadata": {},
          "execution_count": 25
        }
      ]
    },
    {
      "cell_type": "code",
      "source": [
        "a = torch.tensor([[1., 2.],\n",
        "                  [3., 4.],\n",
        "                  [5., 6.]])\n",
        "b = a.clone()\n",
        "a[1,0]=9\n",
        "b"
      ],
      "metadata": {
        "id": "8uC_hITdDwQs",
        "outputId": "7cacccda-dbfd-4c63-b51e-03f87057f9d8",
        "colab": {
          "base_uri": "https://localhost:8080/"
        }
      },
      "execution_count": 26,
      "outputs": [
        {
          "output_type": "execute_result",
          "data": {
            "text/plain": [
              "tensor([[1., 2.],\n",
              "        [3., 4.],\n",
              "        [5., 6.]])"
            ]
          },
          "metadata": {},
          "execution_count": 26
        }
      ]
    }
  ]
}